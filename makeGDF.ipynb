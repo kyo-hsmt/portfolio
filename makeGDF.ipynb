{
 "cells": [
  {
   "cell_type": "code",
   "execution_count": 4,
   "metadata": {},
   "outputs": [
    {
     "ename": "ImportError",
     "evalue": "libpoppler.so.126: cannot open shared object file: No such file or directory",
     "output_type": "error",
     "traceback": [
      "\u001b[0;31m---------------------------------------------------------------------------\u001b[0m",
      "\u001b[0;31mImportError\u001b[0m                               Traceback (most recent call last)",
      "Cell \u001b[0;32mIn[4], line 1\u001b[0m\n\u001b[0;32m----> 1\u001b[0m \u001b[38;5;28;01mimport\u001b[39;00m \u001b[38;5;21;01mfiona\u001b[39;00m\n\u001b[1;32m      2\u001b[0m \u001b[38;5;28;01mimport\u001b[39;00m \u001b[38;5;21;01mgeopandas\u001b[39;00m \u001b[38;5;28;01mas\u001b[39;00m \u001b[38;5;21;01mgpd\u001b[39;00m\n\u001b[1;32m      3\u001b[0m \u001b[38;5;28;01mimport\u001b[39;00m \u001b[38;5;21;01mnumpy\u001b[39;00m \u001b[38;5;28;01mas\u001b[39;00m \u001b[38;5;21;01mnp\u001b[39;00m\n",
      "File \u001b[0;32m/opt/conda/lib/python3.11/site-packages/fiona/__init__.py:41\u001b[0m\n\u001b[1;32m     37\u001b[0m                 \u001b[38;5;28;01mif\u001b[39;00m glob\u001b[38;5;241m.\u001b[39mglob(os\u001b[38;5;241m.\u001b[39mpath\u001b[38;5;241m.\u001b[39mjoin(p, \u001b[38;5;124m\"\u001b[39m\u001b[38;5;124mgdal*.dll\u001b[39m\u001b[38;5;124m\"\u001b[39m)):\n\u001b[1;32m     38\u001b[0m                     os\u001b[38;5;241m.\u001b[39madd_dll_directory(p)\n\u001b[0;32m---> 41\u001b[0m \u001b[38;5;28;01mfrom\u001b[39;00m \u001b[38;5;21;01mfiona\u001b[39;00m\u001b[38;5;21;01m.\u001b[39;00m\u001b[38;5;21;01m_env\u001b[39;00m \u001b[38;5;28;01mimport\u001b[39;00m (\n\u001b[1;32m     42\u001b[0m     calc_gdal_version_num,\n\u001b[1;32m     43\u001b[0m     get_gdal_release_name,\n\u001b[1;32m     44\u001b[0m     get_gdal_version_num,\n\u001b[1;32m     45\u001b[0m     get_gdal_version_tuple,\n\u001b[1;32m     46\u001b[0m )\n\u001b[1;32m     47\u001b[0m \u001b[38;5;28;01mfrom\u001b[39;00m \u001b[38;5;21;01mfiona\u001b[39;00m\u001b[38;5;21;01m.\u001b[39;00m\u001b[38;5;21;01m_env\u001b[39;00m \u001b[38;5;28;01mimport\u001b[39;00m driver_count\n\u001b[1;32m     48\u001b[0m \u001b[38;5;28;01mfrom\u001b[39;00m \u001b[38;5;21;01mfiona\u001b[39;00m\u001b[38;5;21;01m.\u001b[39;00m\u001b[38;5;21;01m_show_versions\u001b[39;00m \u001b[38;5;28;01mimport\u001b[39;00m show_versions\n",
      "\u001b[0;31mImportError\u001b[0m: libpoppler.so.126: cannot open shared object file: No such file or directory"
     ]
    }
   ],
   "source": [
    "import fiona\n",
    "import geopandas as gpd\n",
    "import numpy as np\n",
    "import pandas as pd\n",
    "import shapely.geometry\n",
    "import matplotlib.pyplot as plt\n",
    "import re\n",
    "from sklearn.neighbors import NearestNeighbors\n",
    "from scipy.stats import gaussian_kde\n",
    "\n",
    "# dfのcellの内容をすべて表示\n",
    "# pd.options.display.max_colwidth=10000"
   ]
  },
  {
   "cell_type": "code",
   "execution_count": 82,
   "metadata": {},
   "outputs": [],
   "source": [
    "# 緯度経度の座標系\n",
    "src_epsg = 4326\n",
    "# メートルの座標系\n",
    "dst_epsg = 26971\n",
    "\n",
    "# csvの緯度経度からmの座標系に変換\n",
    "# x:Longitude(経度)\n",
    "# y:Latitude(緯度)\n",
    "\n",
    "def LatiLongi_to_meter(df, longitude, latitude):\n",
    "    # 緯度経度をgeometryに\n",
    "    new_geometry = gpd.points_from_xy(x=longitude, y=latitude)\n",
    "    # gdfの作成\n",
    "    df = gpd.GeoDataFrame(df, geometry=new_geometry).set_crs(f'EPSG:{src_epsg}', allow_override=True)\n",
    "    # EPSGを変換\n",
    "    df.to_crs(epsg=dst_epsg, inplace=True)\n",
    "\n",
    "    return df"
   ]
  },
  {
   "cell_type": "code",
   "execution_count": 2,
   "metadata": {},
   "outputs": [],
   "source": [
    "# grid内の特徴点の個数をカウントする\n",
    "def count_features(gdf_grid, gdf_feature):\n",
    "    # gdfのgeometryを抽出\n",
    "    grid_geom = gdf_grid.geometry\n",
    "    gdf_feature_points_geom = gdf_feature.geometry \n",
    "\n",
    "    # grid内に特徴点の個数をカウント\n",
    "    # https://note.com/bright_moraea170/n/nbb8653fa3a1e\n",
    "    mask = gdf_feature_points_geom.within(grid_geom)\n",
    "    cnt = len(gdf_feature_points_geom[mask])\n",
    "\n",
    "    return cnt"
   ]
  },
  {
   "cell_type": "code",
   "execution_count": 3,
   "metadata": {},
   "outputs": [
    {
     "ename": "NameError",
     "evalue": "name 'gpd' is not defined",
     "output_type": "error",
     "traceback": [
      "\u001b[0;31m---------------------------------------------------------------------------\u001b[0m",
      "\u001b[0;31mNameError\u001b[0m                                 Traceback (most recent call last)",
      "Cell \u001b[0;32mIn[3], line 1\u001b[0m\n\u001b[0;32m----> 1\u001b[0m gdf_chicago \u001b[38;5;241m=\u001b[39m gpd\u001b[38;5;241m.\u001b[39mread_file(\u001b[38;5;124m'\u001b[39m\u001b[38;5;124m/root/workdir/data/RTM/gdf/chicago.geojson\u001b[39m\u001b[38;5;124m'\u001b[39m)\u001b[38;5;241m.\u001b[39mto_crs(epsg\u001b[38;5;241m=\u001b[39m\u001b[38;5;241m26971\u001b[39m)\n\u001b[1;32m      2\u001b[0m gdf_chicago \u001b[38;5;241m=\u001b[39m gdf_chicago[[\u001b[38;5;124m'\u001b[39m\u001b[38;5;124mgeometry\u001b[39m\u001b[38;5;124m'\u001b[39m]]\n\u001b[1;32m      3\u001b[0m \u001b[38;5;66;03m# number of meters\u001b[39;00m\n",
      "\u001b[0;31mNameError\u001b[0m: name 'gpd' is not defined"
     ]
    }
   ],
   "source": [
    "gdf_chicago = gpd.read_file('/root/workdir/data/RTM/gdf/chicago.geojson').to_crs(epsg=26971)\n",
    "gdf_chicago = gdf_chicago[['geometry']]\n",
    "# number of meters\n",
    "STEP = 500\n",
    "\n",
    "a, b, c, d = gdf_chicago.to_crs(gdf_chicago.estimate_utm_crs()).total_bounds\n",
    "\n",
    "# create a grid for chicago\n",
    "gdf_grid = gpd.GeoDataFrame(\n",
    "    geometry=[\n",
    "        shapely.geometry.box(minx, miny, maxx, maxy)\n",
    "        for minx, maxx in zip(np.arange(a, c, STEP), np.arange(a, c, STEP)[1:])\n",
    "        for miny, maxy in zip(np.arange(b, d, STEP), np.arange(b, d, STEP)[1:])\n",
    "    ],\n",
    "    crs=gdf_chicago.estimate_utm_crs(),\n",
    "\n",
    ").to_crs(gdf_chicago.crs)\n",
    "\n",
    "# restrict grid to only squares that intersect with chicago geometry\n",
    "gdf_grid = (\n",
    "    gdf_grid.sjoin(gdf_chicago)\n",
    "\n",
    "    .pipe(lambda d: d.groupby(d.index).first())\n",
    "    .set_crs(gdf_grid.crs)\n",
    "    .drop(columns=[\"index_right\"])\n",
    ")\n",
    "gdf_grid.reset_index(drop=True, inplace=True)\n",
    "print(f\"len(gdf_chicago):{len(gdf_grid)}\")\n",
    "ax =gdf_grid.plot()\n",
    "gdf_chicago.plot(ax=ax, alpha=0.4,color='yellow')"
   ]
  },
  {
   "cell_type": "code",
   "execution_count": 85,
   "metadata": {},
   "outputs": [],
   "source": [
    "# 特徴量の生成\n",
    "#### 1.特徴点とグリッドの重心との間の距離を測る\n",
    "#### 2.特徴点のKDEを計算\n",
    "# gridの中心のxy座標を取得\n",
    "gdf_grid['centroid_x'] = gdf_grid.geometry.centroid.x\n",
    "gdf_grid['centroid_y'] = gdf_grid.geometry.centroid.y\n",
    "# KDEが学習できるように整形\n",
    "centroid_data = np.vstack([np.array(gdf_grid['centroid_x']), np.array(gdf_grid['centroid_y'])])\n",
    "\n",
    "# sklearn.NearestNeighborを使って最近傍点との距離を求める\n",
    "def get_distance(gdf_grid,gdf_feature):\n",
    "    #gdfのgeometryを抽出してnp.arrayに変換\n",
    "    grid_center= gdf_grid.geometry.centroid\n",
    "    X = np.stack([gdf_feature.geometry.x,gdf_feature.geometry.y], axis=1)\n",
    "    test_data = np.array([grid_center.x,grid_center.y]).reshape(1,-1)\n",
    "\n",
    "    #grid_centerから近傍の特徴点を求める\n",
    "    # instance\n",
    "    extractor = NearestNeighbors(metric='euclidean', n_neighbors=1, n_jobs=-1)\n",
    "    # fit\n",
    "    extractor.fit(X)\n",
    "    distance, index = extractor.kneighbors(test_data)\n",
    "    \n",
    "    return distance[0][0]\n",
    "\n",
    "\n",
    "def create_feature(gdf_grid, gdf_feature, feature_name):\n",
    "    # 距離の計算\n",
    "    gdf_grid[f'{feature_name}_distance'] = gdf_grid.apply(get_distance, gdf_feature=gdf_feature, axis=1)\n",
    "    # ある範囲内(m)に特徴点があるか判定\n",
    "    for threshold in [271 ,519, 779, 999]:\n",
    "        gdf_grid[f'{feature_name}_{threshold}_DST'] = gdf_grid[f'{feature_name}_distance'].apply(lambda x: 1 if x<=threshold else 0)\n",
    "    # ditanceを削除\n",
    "    gdf_grid.drop(f'{feature_name}_distance', axis=1, inplace=True)\n",
    "    \n",
    "    # KDEの計算\n",
    "    # ある特徴点を学習\n",
    "    data = np.array([gdf_feature.geometry.x,gdf_feature.geometry.y])\n",
    "    # 4つのバンド幅でKDEを計算\n",
    "    for threshhold in [271 ,519, 779, 999]:   \n",
    "        kde = gaussian_kde(data, bw_method=threshhold/(10**3))\n",
    "        gdf_grid[f'{feature_name}_{threshhold}_density'] = kde.evaluate(centroid_data)\n",
    "        # しきい値でダミー変数化\n",
    "        KDE_threshold = np.mean(gdf_grid[f'{feature_name}_{threshhold}_density']) + 2*np.std(gdf_grid[f'{feature_name}_{threshhold}_density'])\n",
    "        gdf_grid[f'{feature_name}_{threshhold}_KDE'] = gdf_grid[f'{feature_name}_{threshhold}_density'].apply(lambda x: 1 if x>=KDE_threshold else 0)\n",
    "        gdf_grid.drop(f'{feature_name}_{threshhold}_density', axis=1, inplace=True)"
   ]
  },
  {
   "cell_type": "markdown",
   "metadata": {},
   "source": [
    "# 目標変数：強盗件数データの読み込み"
   ]
  },
  {
   "cell_type": "code",
   "execution_count": 5,
   "metadata": {},
   "outputs": [],
   "source": [
    "# データ準備\n",
    "gdf_crime = pd.read_csv('https://data.cityofchicago.org/resource/ijzp-q8t2.csv?$limit=8181463')\n",
    "# 緯度経度のNaNをdrop\n",
    "gdf_crime.dropna(subset=['latitude', 'longitude'], inplace=True)\n",
    "gdf_crime.drop(gdf_crime.index[(gdf_crime['latitude'] == 0) | (gdf_crime['longitude'] == 0)], inplace=True)\n",
    "gdf_crime = LatiLongi_to_meter(gdf_crime, longitude=gdf_crime['longitude'], latitude=gdf_crime['latitude'])\n",
    "# gdf_crime.to_file(filename=f'/root/workdir/data/RTM/gdf/gdf_crime.geojson', driver=\"GeoJSON\")"
   ]
  },
  {
   "cell_type": "code",
   "execution_count": 86,
   "metadata": {},
   "outputs": [
    {
     "name": "stderr",
     "output_type": "stream",
     "text": [
      "/opt/conda/lib/python3.11/site-packages/geopandas/geodataframe.py:1528: SettingWithCopyWarning: \n",
      "A value is trying to be set on a copy of a slice from a DataFrame.\n",
      "Try using .loc[row_indexer,col_indexer] = value instead\n",
      "\n",
      "See the caveats in the documentation: https://pandas.pydata.org/pandas-docs/stable/user_guide/indexing.html#returning-a-view-versus-a-copy\n",
      "  super().__setitem__(key, value)\n"
     ]
    }
   ],
   "source": [
    "# 強盗のみを抽出\n",
    "gdf_BURGLARY = gdf_crime[gdf_crime['primary_type']=='BURGLARY']\n",
    "gdf_BURGLARY['date'] = pd.to_datetime(gdf_BURGLARY['date'])\n",
    "# gdf_BURGLARY = LatiLongi_to_meter(gdf_BURGLARY, longitude=gdf_BURGLARY['longitude'], latitude=gdf_BURGLARY['latitude'])\n",
    "# 2010~2023年の強盗データを抽出\n",
    "for i in range(2010,2024):\n",
    "    # gdf_BURGLARY[gdf_BURGLARY['date'].dt.year == i][['geometry']].to_file(filename=f'/root/workdir/data/RTM/gdf/gdf_BURGLARY_{i}.geojson', driver=\"GeoJSON\")\n",
    "    gdf_grid[f'crime_cnt_{i}'] = gdf_grid.apply(count_features, gdf_feature=gdf_BURGLARY[gdf_BURGLARY['date'].dt.year == i], axis=1)\n",
    "# 2010~2023までの強盗件数をカウントしたグリッドを書き出す\n",
    "gdf_grid.to_file(filename=f'/root/workdir/data/RTM/gdf/gdf_grid_{STEP}.geojson', driver=\"GeoJSON\")"
   ]
  },
  {
   "cell_type": "markdown",
   "metadata": {},
   "source": [
    "# 特徴変数データの読み込み"
   ]
  },
  {
   "cell_type": "markdown",
   "metadata": {},
   "source": [
    "### <注意>\n",
    "### latitude, longitude = (0,0)だと,geometryがPOINT (Infinity Infinity)になってしまうのでdropする必要あり"
   ]
  },
  {
   "cell_type": "markdown",
   "metadata": {},
   "source": [
    "# Vacant and Abandoned Buildings - Violations"
   ]
  },
  {
   "cell_type": "code",
   "execution_count": 65,
   "metadata": {},
   "outputs": [],
   "source": [
    "gdf_VAB = pd.read_csv('https://data.cityofchicago.org/resource/7nii-7srd.csv?$limit=65119')\n",
    "# 緯度経度のNaNをdrop\n",
    "gdf_VAB.dropna(subset=['latitude', 'longitude'], inplace=True)\n",
    "gdf_VAB.drop(gdf_VAB.index[(gdf_VAB['latitude'] == 0) | (gdf_VAB['longitude'] == 0)], inplace=True)\n",
    "# 緯度経度をmerterに変換\n",
    "gdf_VAB = LatiLongi_to_meter(gdf_VAB, longitude=gdf_VAB['longitude'], latitude=gdf_VAB['latitude'])\n",
    "gdf_VAB['date'] = pd.to_datetime(gdf_VAB['date_service_request_was_received'])\n",
    "for i in range(2008,2019):\n",
    "    gdf_VAB[gdf_VAB['date'].dt.year == i][['geometry']].to_file(filename=f'/root/workdir/data/RTM/gdf/gdf_VAB_{i}.geojson', driver=\"GeoJSON\")"
   ]
  },
  {
   "cell_type": "markdown",
   "metadata": {},
   "source": [
    "# Street_Lights_One_Out"
   ]
  },
  {
   "cell_type": "code",
   "execution_count": 77,
   "metadata": {},
   "outputs": [],
   "source": [
    "gdf_SLO = pd.read_csv('https://data.cityofchicago.org/resource/3aav-uy2v.csv?$limit=486817')\n",
    "# 緯度経度のNaNをdrop\n",
    "gdf_SLO.dropna(subset=['latitude', 'longitude'], inplace=True)\n",
    "gdf_SLO.drop(gdf_SLO.index[(gdf_SLO['latitude'] == 0) | (gdf_SLO['longitude'] == 0)], inplace=True)\n",
    "# 緯度経度をmerterに変換\n",
    "gdf_SLO = LatiLongi_to_meter(gdf_SLO, longitude=gdf_SLO['longitude'], latitude=gdf_SLO['latitude'])\n",
    "gdf_SLO['date'] = pd.to_datetime(gdf_SLO['completion_date'])\n",
    "for i in range(2011,2019):\n",
    "    gdf_SLO[gdf_SLO['date'].dt.year == i][['geometry']].to_file(filename=f'/root/workdir/data/RTM/gdf/gdf_SLO_{i}.geojson', driver=\"GeoJSON\")"
   ]
  },
  {
   "cell_type": "markdown",
   "metadata": {},
   "source": [
    "# School"
   ]
  },
  {
   "cell_type": "code",
   "execution_count": 135,
   "metadata": {},
   "outputs": [],
   "source": [
    "for i in range(2010,2021):    \n",
    "    gdf_School = pd.read_csv(f'/root/workdir/selfRTM/school{i}.csv')\n",
    "    if 2015<=i<=2017 or i==2020  :\n",
    "        # 緯度経度のNaNをdrop\n",
    "        gdf_School.dropna(subset=['Long', 'Lat'], inplace=True)\n",
    "        gdf_School.drop(gdf_School.index[(gdf_School['Long'] == 0) | (gdf_School['Lat'] == 0)], inplace=True)\n",
    "        # # 緯度経度をmerterに変換\n",
    "        gdf_School = LatiLongi_to_meter(gdf_School, longitude=gdf_School['Long'], latitude=gdf_School['Lat'])\n",
    "    elif i==2018:\n",
    "        gdf_School[['Long', 'Lat']] = gdf_School['the_geom'].str.extract(r'POINT \\(([^ ]+) ([^ ]+)\\)')\n",
    "        # 緯度経度のNaNをdrop\n",
    "        gdf_School.dropna(subset=['Long', 'Lat'], inplace=True)\n",
    "        gdf_School.drop(gdf_School.index[(gdf_School['Long'] == 0) | (gdf_School['Lat'] == 0)], inplace=True)\n",
    "        # # 緯度経度をmerterに変換\n",
    "        gdf_School = LatiLongi_to_meter(gdf_School, longitude=gdf_School['Long'], latitude=gdf_School['Lat'])\n",
    "    else:\n",
    "        # 緯度経度のNaNをdrop\n",
    "        gdf_School.dropna(subset=['X', 'Y'], inplace=True)\n",
    "        gdf_School.drop(gdf_School.index[(gdf_School['X'] == 0) | (gdf_School['Y'] == 0)], inplace=True)\n",
    "        # # 緯度経度をmerterに変換\n",
    "        gdf_School = LatiLongi_to_meter(gdf_School, longitude=gdf_School['X'], latitude=gdf_School['Y'])\n",
    "\n",
    "    gdf_School[['geometry']].to_file(filename=f'/root/workdir/data/RTM/gdf/gdf_SCHOOL_{i}.geojson', driver=\"GeoJSON\")"
   ]
  },
  {
   "cell_type": "markdown",
   "metadata": {},
   "source": [
    "# Sanitation"
   ]
  },
  {
   "cell_type": "code",
   "execution_count": 143,
   "metadata": {},
   "outputs": [],
   "source": [
    "gdf_Sanitation = pd.read_csv('https://data.cityofchicago.org/resource/me59-5fac.csv?$limit=152664')\n",
    "# 緯度経度のNaNをdrop\n",
    "gdf_Sanitation.dropna(subset=['latitude', 'longitude'], inplace=True)\n",
    "gdf_Sanitation.drop(gdf_Sanitation.index[(gdf_Sanitation['latitude'] == 0) | (gdf_Sanitation['longitude'] == 0)], inplace=True)\n",
    "# 緯度経度をmerterに変換\n",
    "gdf_Sanitation = LatiLongi_to_meter(gdf_Sanitation, longitude=gdf_Sanitation['longitude'], latitude=gdf_Sanitation['latitude'])\n",
    "gdf_Sanitation['date'] = pd.to_datetime(gdf_Sanitation['creation_date'])\n",
    "for i in range(2011,2019):\n",
    "    gdf_Sanitation[gdf_Sanitation['date'].dt.year == i][['geometry']].to_file(filename=f'/root/workdir/data/RTM/gdf/gdf_Sanitation_{i}.geojson', driver=\"GeoJSON\")"
   ]
  },
  {
   "cell_type": "markdown",
   "metadata": {},
   "source": [
    "# Graffiti removal"
   ]
  },
  {
   "cell_type": "code",
   "execution_count": 19,
   "metadata": {},
   "outputs": [],
   "source": [
    "gdf_Graffiti = pd.read_csv('/root/workdir/selfRTM/Graffiti_Removal.csv')\n",
    "# 緯度経度のNaNをdrop\n",
    "gdf_Graffiti.dropna(subset=['Latitude', 'Longitude'], inplace=True)\n",
    "# 緯度経度が0,0の行をdrop\n",
    "gdf_Graffiti.drop(gdf_Graffiti.index[(gdf_Graffiti['Latitude'] == 0) | (gdf_Graffiti['Longitude'] == 0)], inplace=True)\n",
    "# 緯度経度をmerterに変換\n",
    "gdf_Graffiti = LatiLongi_to_meter(gdf_Graffiti, longitude=gdf_Graffiti['Longitude'], latitude=gdf_Graffiti['Latitude'])\n",
    "gdf_Graffiti['date'] = pd.to_datetime(gdf_Graffiti['Creation Date'])\n",
    "for i in range(2011,2019):\n",
    "    gdf_Graffiti[gdf_Graffiti['date'].dt.year == i][['geometry']].to_file(filename=f'/root/workdir/data/RTM/gdf/gdf_Graffiti_{i}.geojson', driver=\"GeoJSON\")"
   ]
  },
  {
   "cell_type": "markdown",
   "metadata": {},
   "source": [
    "# Foreclosure"
   ]
  },
  {
   "cell_type": "code",
   "execution_count": 37,
   "metadata": {},
   "outputs": [
    {
     "name": "stderr",
     "output_type": "stream",
     "text": [
      "/tmp/ipykernel_611/2773190235.py:24: FutureWarning: Setting an item of incompatible dtype is deprecated and will raise in a future error of pandas. Value '41.8745676084568' has dtype incompatible with float64, please explicitly cast to a compatible dtype first.\n",
      "  gdf_Foreclosure.at[index, 'Latitude'] = match.group(1)\n",
      "/tmp/ipykernel_611/2773190235.py:25: FutureWarning: Setting an item of incompatible dtype is deprecated and will raise in a future error of pandas. Value '-87.80084316240078' has dtype incompatible with float64, please explicitly cast to a compatible dtype first.\n",
      "  gdf_Foreclosure.at[index, 'Longitude'] = match.group(2)\n",
      "/tmp/ipykernel_611/2773190235.py:24: FutureWarning: Setting an item of incompatible dtype is deprecated and will raise in a future error of pandas. Value '41.61341348436838' has dtype incompatible with float64, please explicitly cast to a compatible dtype first.\n",
      "  gdf_Foreclosure.at[index, 'Latitude'] = match.group(1)\n",
      "/tmp/ipykernel_611/2773190235.py:25: FutureWarning: Setting an item of incompatible dtype is deprecated and will raise in a future error of pandas. Value '-87.7540874100975' has dtype incompatible with float64, please explicitly cast to a compatible dtype first.\n",
      "  gdf_Foreclosure.at[index, 'Longitude'] = match.group(2)\n"
     ]
    }
   ],
   "source": [
    "for i in range(2011,2013):\n",
    "    if i==2011:\n",
    "        gdf_Foreclosure = pd.read_csv('https://datacatalog.cookcountyil.gov/resource/epxa-9ihc.csv?$limit=47069')\n",
    "        location = 'location_1'\n",
    "    elif i==2012:\n",
    "        gdf_Foreclosure = pd.read_csv('https://datacatalog.cookcountyil.gov/resource/9br9-dhca.csv?$limit=45400')\n",
    "        location = 'location_1'\n",
    "    else:\n",
    "        break\n",
    "    # 緯度経度のNaNをdrop\n",
    "    gdf_Foreclosure.dropna(subset=[location], inplace=True)\n",
    "\n",
    "    gdf_Foreclosure['Latitude'] = np.nan\n",
    "    gdf_Foreclosure['Longitude'] = np.nan\n",
    "\n",
    "    # 正規表現パターン\n",
    "    pattern = r'\\(([-+]?\\d+\\.\\d+),\\s*([-+]?\\d+\\.\\d+)\\)'\n",
    "\n",
    "    for index, row in gdf_Foreclosure.iterrows():\n",
    "        text = row[location]\n",
    "        # マッチを探す\n",
    "        match = re.search(pattern, text)\n",
    "        if match:\n",
    "            gdf_Foreclosure.at[index, 'Latitude'] = match.group(1)\n",
    "            gdf_Foreclosure.at[index, 'Longitude'] = match.group(2)\n",
    "            \n",
    "    gdf_Foreclosure.drop(gdf_Foreclosure.index[(gdf_Foreclosure['Latitude'] == 0) | (gdf_Foreclosure['Longitude'] == 0)], inplace=True)\n",
    "    # 緯度経度をmerterに変換\n",
    "    gdf_Foreclosure = LatiLongi_to_meter(gdf_Foreclosure, longitude=gdf_Foreclosure['Longitude'], latitude=gdf_Foreclosure['Latitude'])\n",
    "\n",
    "    # chicago の grid上にあるpointだけを抽出\n",
    "    # 削除したい行のインデックスを収集するリスト\n",
    "    rows_to_drop = []\n",
    "\n",
    "    for index, row in gdf_Foreclosure.iterrows():\n",
    "        if True not in list(row.geometry.within(gdf_grid.geometry)):\n",
    "            rows_to_drop.append(index)\n",
    "    # インデックスを使って行を削除\n",
    "    gdf_Foreclosure = gdf_Foreclosure.drop(rows_to_drop)\n",
    "    gdf_Foreclosure['date'] = pd.to_datetime(gdf_Foreclosure['recorded_date'])\n",
    "    gdf_Foreclosure[gdf_Foreclosure['date'].dt.year == i][['geometry']].to_file(filename=f'/root/workdir/data/RTM/gdf/gdf_Foreclosure_{i}.geojson', driver=\"GeoJSON\")\n"
   ]
  },
  {
   "cell_type": "code",
   "execution_count": 47,
   "metadata": {},
   "outputs": [
    {
     "name": "stderr",
     "output_type": "stream",
     "text": [
      "/tmp/ipykernel_611/1228886522.py:19: FutureWarning: Setting an item of incompatible dtype is deprecated and will raise in a future error of pandas. Value '42.08563190500007' has dtype incompatible with float64, please explicitly cast to a compatible dtype first.\n",
      "  gdf_Foreclosure.at[index, 'Latitude'] = match.group(1)\n",
      "/tmp/ipykernel_611/1228886522.py:20: FutureWarning: Setting an item of incompatible dtype is deprecated and will raise in a future error of pandas. Value '-88.03927053899997' has dtype incompatible with float64, please explicitly cast to a compatible dtype first.\n",
      "  gdf_Foreclosure.at[index, 'Longitude'] = match.group(2)\n"
     ]
    }
   ],
   "source": [
    "# 2013,2014\n",
    "gdf_Foreclosure = pd.read_csv('https://datacatalog.cookcountyil.gov/resource/nk2q-7kjv.csv?$limit=51950')\n",
    "location = 'Location'\n",
    "\n",
    "# 緯度経度のNaNをdrop\n",
    "gdf_Foreclosure.dropna(subset=[location], inplace=True)\n",
    "\n",
    "gdf_Foreclosure['Latitude'] = np.nan\n",
    "gdf_Foreclosure['Longitude'] = np.nan\n",
    "\n",
    "# 正規表現パターン\n",
    "pattern = r'\\(([-+]?\\d+\\.\\d+),\\s*([-+]?\\d+\\.\\d+)\\)'\n",
    "\n",
    "for index, row in gdf_Foreclosure.iterrows():\n",
    "    text = row[location]\n",
    "    # マッチを探す\n",
    "    match = re.search(pattern, text)\n",
    "    if match:\n",
    "        gdf_Foreclosure.at[index, 'Latitude'] = match.group(1)\n",
    "        gdf_Foreclosure.at[index, 'Longitude'] = match.group(2)\n",
    "        \n",
    "gdf_Foreclosure.drop(gdf_Foreclosure.index[(gdf_Foreclosure['Latitude'] == 0) | (gdf_Foreclosure['Longitude'] == 0)], inplace=True)\n",
    "# 緯度経度をmerterに変換\n",
    "gdf_Foreclosure = LatiLongi_to_meter(gdf_Foreclosure, longitude=gdf_Foreclosure['Longitude'], latitude=gdf_Foreclosure['Latitude'])\n",
    "\n",
    "# chicago の grid上にあるpointだけを抽出\n",
    "# 削除したい行のインデックスを収集するリスト\n",
    "rows_to_drop = []\n",
    "\n",
    "for index, row in gdf_Foreclosure.iterrows():\n",
    "    if True not in list(row.geometry.within(gdf_grid.geometry)):\n",
    "        rows_to_drop.append(index)\n",
    "# インデックスを使って行を削除\n",
    "gdf_Foreclosure = gdf_Foreclosure.drop(rows_to_drop)\n",
    "gdf_Foreclosure['date'] = pd.to_datetime(gdf_Foreclosure['Recorded Date'])\n",
    "for i in range(2013,2015):\n",
    "    gdf_Foreclosure[gdf_Foreclosure['date'].dt.year == i][['geometry']].to_file(filename=f'/root/workdir/data/RTM/gdf/gdf_Foreclosure_{i}.geojson', driver=\"GeoJSON\")"
   ]
  },
  {
   "cell_type": "markdown",
   "metadata": {},
   "source": [
    "# Alley Light Out"
   ]
  },
  {
   "cell_type": "code",
   "execution_count": 63,
   "metadata": {},
   "outputs": [],
   "source": [
    "gdf_Alley = pd.read_csv('https://data.cityofchicago.org/resource/t28b-ys7j.csv?$limit=219010')\n",
    "# 緯度経度のNaNをdrop\n",
    "gdf_Alley.dropna(subset=['latitude', 'longitude'], inplace=True)\n",
    "gdf_Alley.drop(gdf_Alley.index[(gdf_Alley['latitude'] == 0) | (gdf_Alley['longitude'] == 0)], inplace=True)\n",
    "# 緯度経度をmerterに変換\n",
    "gdf_Alley = LatiLongi_to_meter(gdf_Alley, longitude=gdf_Alley['longitude'], latitude=gdf_Alley['latitude'])\n",
    "gdf_Alley['date'] = pd.to_datetime(gdf_Alley['creation_date'])\n",
    "for i in range(2011,2019):\n",
    "    gdf_Alley[gdf_Alley['date'].dt.year == i][['geometry']].to_file(filename=f'/root/workdir/data/RTM/gdf/gdf_Alley_{i}.geojson', driver=\"GeoJSON\")"
   ]
  },
  {
   "cell_type": "markdown",
   "metadata": {},
   "source": [
    "# Abandoned Vehicles"
   ]
  },
  {
   "cell_type": "code",
   "execution_count": 79,
   "metadata": {},
   "outputs": [],
   "source": [
    "gdf_Vehicles = pd.read_csv('https://data.cityofchicago.org/resource/atid-bgws.csv?$limit=207858')\n",
    "# 緯度経度のNaNをdrop\n",
    "gdf_Vehicles.dropna(subset=['Latitude', 'Longitude'], inplace=True)\n",
    "gdf_Vehicles.drop(gdf_Vehicles.index[(gdf_Vehicles['Latitude'] == 0) | (gdf_Vehicles['Longitude'] == 0)], inplace=True)\n",
    "# 緯度経度をmerterに変換\n",
    "gdf_Vehicles = LatiLongi_to_meter(gdf_Vehicles, longitude=gdf_Vehicles['Longitude'], latitude=gdf_Vehicles['Latitude'])\n",
    "gdf_Vehicles['date'] = pd.to_datetime(gdf_Vehicles['Creation Date'])\n",
    "for i in range(2011,2021):\n",
    "    gdf_Vehicles[gdf_Vehicles['date'].dt.year == i][['geometry']].to_file(filename=f'/root/workdir/data/RTM/gdf/gdf_Vehicles_{i}.geojson', driver=\"GeoJSON\")"
   ]
  },
  {
   "cell_type": "code",
   "execution_count": 80,
   "metadata": {},
   "outputs": [],
   "source": [
    "gdf_Vehicles = gpd.read_file('/root/workdir/data/RTM/gdf/gdf_Vehicles_2011.geojson')"
   ]
  },
  {
   "cell_type": "code",
   "execution_count": 81,
   "metadata": {},
   "outputs": [
    {
     "data": {
      "text/plain": [
       "<Axes: >"
      ]
     },
     "execution_count": 81,
     "metadata": {},
     "output_type": "execute_result"
    },
    {
     "data": {
      "image/png": "[encoded data removed]",
      "text/plain": [
       "<Figure size 640x480 with 1 Axes>"
      ]
     },
     "metadata": {},
     "output_type": "display_data"
    }
   ],
   "source": [
    "ax = gdf_grid.plot()\n",
    "gdf_Vehicles.plot(ax=ax, markersize=2, color='orange', alpha=0.5)"
   ]
  },
  {
   "cell_type": "markdown",
   "metadata": {},
   "source": [
    "# gdf_gridに特徴量を追加"
   ]
  },
  {
   "cell_type": "markdown",
   "metadata": {},
   "source": [
    "### 2011~2013で学習,2014でテスト"
   ]
  },
  {
   "cell_type": "code",
   "execution_count": 17,
   "metadata": {},
   "outputs": [],
   "source": [
    "gdf_grid['crime_cnt_2011_13'] = gdf_grid['crime_cnt_2011'] + gdf_grid['crime_cnt_2012'] + gdf_grid['crime_cnt_2013']"
   ]
  },
  {
   "cell_type": "markdown",
   "metadata": {},
   "source": [
    "### 3年間の入力データをまとめる"
   ]
  },
  {
   "cell_type": "code",
   "execution_count": 40,
   "metadata": {},
   "outputs": [],
   "source": [
    "gdf_BURGLARY_2011 = gpd.read_file('/root/workdir/data/RTM/gdf/gdf_BURGLARY_2011.geojson')\n",
    "gdf_BURGLARY_2012 = gpd.read_file('/root/workdir/data/RTM/gdf/gdf_BURGLARY_2012.geojson')\n",
    "gdf_BURGLARY_2013 = gpd.read_file('/root/workdir/data/RTM/gdf/gdf_BURGLARY_2013.geojson')\n",
    "gdf_BURGLARY_2014 = gpd.read_file('/root/workdir/data/RTM/gdf/gdf_BURGLARY_2014.geojson')\n",
    "gdf_BURGLARY_2011_13 = pd.concat([gdf_BURGLARY_2011, gdf_BURGLARY_2012, gdf_BURGLARY_2013], ignore_index=True)"
   ]
  },
  {
   "cell_type": "code",
   "execution_count": 58,
   "metadata": {},
   "outputs": [],
   "source": [
    "gdf_Alley_2011 = gpd.read_file('/root/workdir/data/RTM/gdf/gdf_Alley_2011.geojson')\n",
    "gdf_Alley_2012 = gpd.read_file('/root/workdir/data/RTM/gdf/gdf_Alley_2012.geojson')\n",
    "gdf_Alley_2013 = gpd.read_file('/root/workdir/data/RTM/gdf/gdf_Alley_2013.geojson')\n",
    "gdf_Alley_2014 = gpd.read_file('/root/workdir/data/RTM/gdf/gdf_Alley_2011.geojson')\n",
    "gdf_Alley_2011_13 = pd.concat([gdf_Alley_2011, gdf_Alley_2012, gdf_Alley_2013], ignore_index=True)\n"
   ]
  },
  {
   "cell_type": "code",
   "execution_count": 42,
   "metadata": {},
   "outputs": [],
   "source": [
    "gdf_Foreclosure_2011 = gpd.read_file('/root/workdir/data/RTM/gdf/gdf_Foreclosure_2011.geojson')\n",
    "gdf_Foreclosure_2012 = gpd.read_file('/root/workdir/data/RTM/gdf/gdf_Foreclosure_2012.geojson')\n",
    "gdf_Foreclosure_2013 = gpd.read_file('/root/workdir/data/RTM/gdf/gdf_Foreclosure_2013.geojson')\n",
    "gdf_Foreclosure_2014 = gpd.read_file('/root/workdir/data/RTM/gdf/gdf_Foreclosure_2014.geojson')\n",
    "gdf_Foreclosure_2011_13 = pd.concat([gdf_Foreclosure_2011, gdf_Foreclosure_2012, gdf_Foreclosure_2013], ignore_index=True)\n"
   ]
  },
  {
   "cell_type": "code",
   "execution_count": 43,
   "metadata": {},
   "outputs": [],
   "source": [
    "gdf_Graffiti_2011 = gpd.read_file('/root/workdir/data/RTM/gdf/gdf_Graffiti_2011.geojson')\n",
    "gdf_Graffiti_2012 = gpd.read_file('/root/workdir/data/RTM/gdf/gdf_Graffiti_2012.geojson')\n",
    "gdf_Graffiti_2013 = gpd.read_file('/root/workdir/data/RTM/gdf/gdf_Graffiti_2013.geojson')\n",
    "gdf_Graffiti_2014 = gpd.read_file('/root/workdir/data/RTM/gdf/gdf_Graffiti_2014.geojson')\n",
    "gdf_Graffiti_2011_13 = pd.concat([gdf_Graffiti_2011, gdf_Graffiti_2012, gdf_Graffiti_2013], ignore_index=True)\n"
   ]
  },
  {
   "cell_type": "code",
   "execution_count": 44,
   "metadata": {},
   "outputs": [],
   "source": [
    "gdf_Sanitation_2011 = gpd.read_file('/root/workdir/data/RTM/gdf/gdf_Sanitation_2011.geojson')\n",
    "gdf_Sanitation_2012 = gpd.read_file('/root/workdir/data/RTM/gdf/gdf_Sanitation_2012.geojson')\n",
    "gdf_Sanitation_2013 = gpd.read_file('/root/workdir/data/RTM/gdf/gdf_Sanitation_2013.geojson')\n",
    "gdf_Sanitation_2014 = gpd.read_file('/root/workdir/data/RTM/gdf/gdf_Sanitation_2014.geojson')\n",
    "gdf_Sanitation_2011_13 = pd.concat([gdf_Sanitation_2011, gdf_Sanitation_2012, gdf_Sanitation_2013], ignore_index=True)\n"
   ]
  },
  {
   "cell_type": "code",
   "execution_count": 45,
   "metadata": {},
   "outputs": [],
   "source": [
    "gdf_SCHOOL_2011 = gpd.read_file('/root/workdir/data/RTM/gdf/gdf_SCHOOL_2011.geojson')\n",
    "gdf_SCHOOL_2012 = gpd.read_file('/root/workdir/data/RTM/gdf/gdf_SCHOOL_2012.geojson')\n",
    "gdf_SCHOOL_2013 = gpd.read_file('/root/workdir/data/RTM/gdf/gdf_SCHOOL_2013.geojson')\n",
    "gdf_SCHOOL_2014 = gpd.read_file('/root/workdir/data/RTM/gdf/gdf_SCHOOL_2014.geojson')\n",
    "gdf_SCHOOL_2011_13 = pd.concat([gdf_SCHOOL_2011, gdf_SCHOOL_2012, gdf_SCHOOL_2013], ignore_index=True)\n"
   ]
  },
  {
   "cell_type": "code",
   "execution_count": 46,
   "metadata": {},
   "outputs": [],
   "source": [
    "gdf_SLO_2011 = gpd.read_file('/root/workdir/data/RTM/gdf/gdf_SLO_2011.geojson')\n",
    "gdf_SLO_2012 = gpd.read_file('/root/workdir/data/RTM/gdf/gdf_SLO_2012.geojson')\n",
    "gdf_SLO_2013 = gpd.read_file('/root/workdir/data/RTM/gdf/gdf_SLO_2013.geojson')\n",
    "gdf_SLO_2014 = gpd.read_file('/root/workdir/data/RTM/gdf/gdf_SLO_2014.geojson')\n",
    "gdf_SLO_2011_13 = pd.concat([gdf_SLO_2011, gdf_SLO_2012, gdf_SLO_2013], ignore_index=True)\n"
   ]
  },
  {
   "cell_type": "code",
   "execution_count": 47,
   "metadata": {},
   "outputs": [],
   "source": [
    "gdf_VAB_2011 = gpd.read_file('/root/workdir/data/RTM/gdf/gdf_VAB_2011.geojson')\n",
    "gdf_VAB_2012 = gpd.read_file('/root/workdir/data/RTM/gdf/gdf_VAB_2012.geojson')\n",
    "gdf_VAB_2013 = gpd.read_file('/root/workdir/data/RTM/gdf/gdf_VAB_2013.geojson')\n",
    "gdf_VAB_2014 = gpd.read_file('/root/workdir/data/RTM/gdf/gdf_VAB_2014.geojson')\n",
    "gdf_VAB_2011_13 = pd.concat([gdf_VAB_2011, gdf_VAB_2012, gdf_VAB_2013], ignore_index=True)\n"
   ]
  },
  {
   "cell_type": "code",
   "execution_count": 48,
   "metadata": {},
   "outputs": [],
   "source": [
    "gdf_Vehicles_2011 = gpd.read_file('/root/workdir/data/RTM/gdf/gdf_Vehicles_2011.geojson')\n",
    "gdf_Vehicles_2012 = gpd.read_file('/root/workdir/data/RTM/gdf/gdf_Vehicles_2012.geojson')\n",
    "gdf_Vehicles_2013 = gpd.read_file('/root/workdir/data/RTM/gdf/gdf_Vehicles_2013.geojson')\n",
    "gdf_Vehicles_2014 = gpd.read_file('/root/workdir/data/RTM/gdf/gdf_Vehicles_2014.geojson')\n",
    "gdf_Vehicles_2011_13 = pd.concat([gdf_Vehicles_2011, gdf_Vehicles_2012, gdf_Vehicles_2013], ignore_index=True)\n"
   ]
  },
  {
   "cell_type": "code",
   "execution_count": 90,
   "metadata": {},
   "outputs": [],
   "source": [
    "create_feature(gdf_grid, gdf_feature=gdf_Alley_2011_13, feature_name='Alley')\n",
    "create_feature(gdf_grid, gdf_feature=gdf_Foreclosure_2011_13, feature_name='Foreclosure')\n",
    "create_feature(gdf_grid, gdf_feature=gdf_Graffiti_2011_13, feature_name='Graffiti')\n",
    "create_feature(gdf_grid, gdf_feature=gdf_Sanitation_2011_13, feature_name='Sanitation')\n",
    "create_feature(gdf_grid, gdf_feature=gdf_SCHOOL_2011_13, feature_name='School')\n",
    "create_feature(gdf_grid, gdf_feature=gdf_SLO_2011_13, feature_name='SLO')\n",
    "create_feature(gdf_grid, gdf_feature=gdf_VAB_2011_13, feature_name='VAB')\n",
    "create_feature(gdf_grid, gdf_feature=gdf_Vehicles_2011_13, feature_name='Vehicles')\n",
    "# X_train\n",
    "gdf_grid.to_file(filename=f'/root/workdir/data/RTM/gdf/gdf_grid_{STEP}_2011_13.geojson', driver=\"GeoJSON\")"
   ]
  },
  {
   "cell_type": "markdown",
   "metadata": {},
   "source": [
    "# X_test"
   ]
  },
  {
   "cell_type": "code",
   "execution_count": 91,
   "metadata": {},
   "outputs": [],
   "source": [
    "gdf_grid = gpd.read_file(f'/root/workdir/data/RTM/gdf/gdf_grid_{STEP}.geojson')"
   ]
  },
  {
   "cell_type": "code",
   "execution_count": 92,
   "metadata": {},
   "outputs": [],
   "source": [
    "create_feature(gdf_grid, gdf_feature=gdf_Alley_2014, feature_name='Alley')\n",
    "create_feature(gdf_grid, gdf_feature=gdf_Foreclosure_2014, feature_name='Foreclosure')\n",
    "create_feature(gdf_grid, gdf_feature=gdf_Graffiti_2014, feature_name='Graffiti')\n",
    "create_feature(gdf_grid, gdf_feature=gdf_Sanitation_2014, feature_name='Sanitation')\n",
    "create_feature(gdf_grid, gdf_feature=gdf_SCHOOL_2014, feature_name='School')\n",
    "create_feature(gdf_grid, gdf_feature=gdf_SLO_2014, feature_name='SLO')\n",
    "create_feature(gdf_grid, gdf_feature=gdf_VAB_2014, feature_name='VAB')\n",
    "create_feature(gdf_grid, gdf_feature=gdf_Vehicles_2014, feature_name='Vehicles')"
   ]
  },
  {
   "cell_type": "code",
   "execution_count": 93,
   "metadata": {},
   "outputs": [],
   "source": [
    "# X_test\n",
    "gdf_grid.to_file(filename=f'/root/workdir/data/RTM/gdf/gdf_grid_{STEP}_2014_test.geojson', driver=\"GeoJSON\")"
   ]
  }
 ],
 "metadata": {
  "kernelspec": {
   "display_name": "base",
   "language": "python",
   "name": "python3"
  },
  "language_info": {
   "codemirror_mode": {
    "name": "ipython",
    "version": 3
   },
   "file_extension": ".py",
   "mimetype": "text/x-python",
   "name": "python",
   "nbconvert_exporter": "python",
   "pygments_lexer": "ipython3",
   "version": "3.11.7"
  }
 },
 "nbformat": 4,
 "nbformat_minor": 2
}
